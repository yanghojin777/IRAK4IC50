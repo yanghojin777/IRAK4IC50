{
 "cells": [
  {
   "cell_type": "markdown",
   "id": "9a50b24a",
   "metadata": {},
   "source": [
    "# IRAK4 IC50 prediction using Linear Regression "
   ]
  },
  {
   "cell_type": "markdown",
   "id": "564b0832",
   "metadata": {},
   "source": [
    "### Import"
   ]
  },
  {
   "cell_type": "code",
   "execution_count": 1,
   "id": "8069fb94-13db-4749-9c92-8f05112ada9b",
   "metadata": {},
   "outputs": [],
   "source": [
    "import pandas as pd\n",
    "import numpy as np\n",
    "np.set_printoptions(threshold=np.inf, linewidth=99)\n",
    "import os\n",
    "import random\n",
    "\n",
    "from rdkit import Chem\n",
    "from rdkit.Chem import AllChem\n",
    "from sklearn.model_selection import train_test_split\n",
    "# from sklearn.ensemble import RandomForestRegressor\n",
    "from sklearn.linear_model import LinearRegression\n",
    "from sklearn.metrics import mean_squared_error, r2_score"
   ]
  },
  {
   "cell_type": "code",
   "execution_count": null,
   "id": "2e5aaa62",
   "metadata": {},
   "outputs": [],
   "source": [
    "def pIC50_to_IC50(pic50_values):\n",
    "    \"\"\"Convert pIC50 values to IC50 (nM).\"\"\"\n",
    "    return 10 ** (9 - pic50_values)"
   ]
  },
  {
   "cell_type": "code",
   "execution_count": 75,
   "id": "eac68b6e-10d6-494a-b1c3-6bd5769e5630",
   "metadata": {},
   "outputs": [],
   "source": [
    "CFG = {\n",
    "    'NBITS':8192,\n",
    "    'SEED':42,\n",
    "}"
   ]
  },
  {
   "cell_type": "code",
   "execution_count": 3,
   "id": "e19757ae-2968-4fb2-a0ec-32a14c096a59",
   "metadata": {},
   "outputs": [],
   "source": [
    "def seed_everything(seed):\n",
    "    random.seed(seed)\n",
    "    os.environ['PYTHONHASHSEED'] = str(seed)\n",
    "    np.random.seed(seed)\n",
    "seed_everything(CFG['SEED']) # Seed 고정"
   ]
  },
  {
   "cell_type": "markdown",
   "id": "11f7b6ef",
   "metadata": {},
   "source": [
    "### DataLoad"
   ]
  },
  {
   "cell_type": "code",
   "execution_count": 76,
   "id": "005466c2-5255-49f3-94c9-0193203c79e7",
   "metadata": {},
   "outputs": [],
   "source": [
    "# SMILES 데이터를 분자 지문으로 변환\n",
    "def smiles_to_fingerprint(smiles):\n",
    "    # 먼저 SMILES 데이터로 부터 구조식 데이터를 뽑고,\n",
    "    mol = Chem.MolFromSmiles(smiles)\n",
    "    if mol is not None:\n",
    "        # 구조식으로부터 2048개의 0과 1로 이루어진 분자지문 데이터를 객체를 얻는다. \n",
    "        # 이 때, 1은 어떤 분자구조의 존재를 의미하며 0과 1의 개수는 nBits에 따라 달라진다. \n",
    "        # bitInfo 에 dictionary를 할당하면 어느 인덱스에 지문이 찍혔는지 알 수 있으며,\n",
    "        # radius는 단일 맵핑 특성 생성에 사용되는 원자들의 반경,\n",
    "        # nBits는 분자구조 맵핑을 위한 경로들의 고유조합수를 뜻한다.\n",
    "        fp = AllChem.GetMorganFingerprintAsBitVect(mol, radius=8, nBits=CFG['NBITS'])\n",
    "        # 객체를 배열로 변환해서 리턴\n",
    "        return np.array(fp)\n",
    "    else:\n",
    "        # 구조식이 데이터가 없는 경우 2048개의 0을 리턴\n",
    "        return np.zeros((CFG['NBITS'],))"
   ]
  },
  {
   "cell_type": "code",
   "execution_count": 5,
   "id": "f8b5d593-8c7e-490c-9887-e7eb5eb7473c",
   "metadata": {},
   "outputs": [
    {
     "data": {
      "text/html": [
       "<div>\n",
       "<style scoped>\n",
       "    .dataframe tbody tr th:only-of-type {\n",
       "        vertical-align: middle;\n",
       "    }\n",
       "\n",
       "    .dataframe tbody tr th {\n",
       "        vertical-align: top;\n",
       "    }\n",
       "\n",
       "    .dataframe thead th {\n",
       "        text-align: right;\n",
       "    }\n",
       "</style>\n",
       "<table border=\"1\" class=\"dataframe\">\n",
       "  <thead>\n",
       "    <tr style=\"text-align: right;\">\n",
       "      <th></th>\n",
       "      <th>Molecule ChEMBL ID</th>\n",
       "      <th>Standard Type</th>\n",
       "      <th>Standard Relation</th>\n",
       "      <th>Standard Value</th>\n",
       "      <th>Standard Units</th>\n",
       "      <th>pChEMBL Value</th>\n",
       "      <th>Assay ChEMBL ID</th>\n",
       "      <th>Target ChEMBL ID</th>\n",
       "      <th>Target Name</th>\n",
       "      <th>Target Organism</th>\n",
       "      <th>Target Type</th>\n",
       "      <th>Document ChEMBL ID</th>\n",
       "      <th>IC50_nM</th>\n",
       "      <th>pIC50</th>\n",
       "      <th>Smiles</th>\n",
       "    </tr>\n",
       "  </thead>\n",
       "  <tbody>\n",
       "    <tr>\n",
       "      <th>0</th>\n",
       "      <td>CHEMBL4443947</td>\n",
       "      <td>IC50</td>\n",
       "      <td>'='</td>\n",
       "      <td>0.022</td>\n",
       "      <td>nM</td>\n",
       "      <td>10.66</td>\n",
       "      <td>CHEMBL4361896</td>\n",
       "      <td>CHEMBL3778</td>\n",
       "      <td>Interleukin-1 receptor-associated kinase 4</td>\n",
       "      <td>Homo sapiens</td>\n",
       "      <td>SINGLE PROTEIN</td>\n",
       "      <td>CHEMBL4359855</td>\n",
       "      <td>0.022</td>\n",
       "      <td>10.66</td>\n",
       "      <td>CN[C@@H](C)C(=O)N[C@H](C(=O)N1C[C@@H](NC(=O)CC...</td>\n",
       "    </tr>\n",
       "    <tr>\n",
       "      <th>1</th>\n",
       "      <td>CHEMBL4556091</td>\n",
       "      <td>IC50</td>\n",
       "      <td>'='</td>\n",
       "      <td>0.026</td>\n",
       "      <td>nM</td>\n",
       "      <td>10.59</td>\n",
       "      <td>CHEMBL4345131</td>\n",
       "      <td>CHEMBL3778</td>\n",
       "      <td>Interleukin-1 receptor-associated kinase 4</td>\n",
       "      <td>Homo sapiens</td>\n",
       "      <td>SINGLE PROTEIN</td>\n",
       "      <td>CHEMBL4342485</td>\n",
       "      <td>0.026</td>\n",
       "      <td>10.59</td>\n",
       "      <td>CC(C)(O)[C@H](F)CN1Cc2cc(NC(=O)c3cnn4cccnc34)c...</td>\n",
       "    </tr>\n",
       "    <tr>\n",
       "      <th>2</th>\n",
       "      <td>CHEMBL4566431</td>\n",
       "      <td>IC50</td>\n",
       "      <td>'='</td>\n",
       "      <td>0.078</td>\n",
       "      <td>nM</td>\n",
       "      <td>10.11</td>\n",
       "      <td>CHEMBL4345131</td>\n",
       "      <td>CHEMBL3778</td>\n",
       "      <td>Interleukin-1 receptor-associated kinase 4</td>\n",
       "      <td>Homo sapiens</td>\n",
       "      <td>SINGLE PROTEIN</td>\n",
       "      <td>CHEMBL4342485</td>\n",
       "      <td>0.078</td>\n",
       "      <td>10.11</td>\n",
       "      <td>CC(C)(O)[C@H](F)CN1Cc2cc(NC(=O)c3cnn4cccnc34)c...</td>\n",
       "    </tr>\n",
       "    <tr>\n",
       "      <th>3</th>\n",
       "      <td>CHEMBL4545898</td>\n",
       "      <td>IC50</td>\n",
       "      <td>'='</td>\n",
       "      <td>0.081</td>\n",
       "      <td>nM</td>\n",
       "      <td>10.09</td>\n",
       "      <td>CHEMBL4345131</td>\n",
       "      <td>CHEMBL3778</td>\n",
       "      <td>Interleukin-1 receptor-associated kinase 4</td>\n",
       "      <td>Homo sapiens</td>\n",
       "      <td>SINGLE PROTEIN</td>\n",
       "      <td>CHEMBL4342485</td>\n",
       "      <td>0.081</td>\n",
       "      <td>10.09</td>\n",
       "      <td>CC(C)(O)[C@H](F)CN1Cc2cc(NC(=O)c3cnn4cccnc34)c...</td>\n",
       "    </tr>\n",
       "    <tr>\n",
       "      <th>4</th>\n",
       "      <td>CHEMBL4448950</td>\n",
       "      <td>IC50</td>\n",
       "      <td>'='</td>\n",
       "      <td>0.099</td>\n",
       "      <td>nM</td>\n",
       "      <td>10.00</td>\n",
       "      <td>CHEMBL4361896</td>\n",
       "      <td>CHEMBL3778</td>\n",
       "      <td>Interleukin-1 receptor-associated kinase 4</td>\n",
       "      <td>Homo sapiens</td>\n",
       "      <td>SINGLE PROTEIN</td>\n",
       "      <td>CHEMBL4359855</td>\n",
       "      <td>0.099</td>\n",
       "      <td>10.00</td>\n",
       "      <td>COc1cc2c(OC[C@@H]3CCC(=O)N3)ncc(C#CCCCCCCCCCCC...</td>\n",
       "    </tr>\n",
       "  </tbody>\n",
       "</table>\n",
       "</div>"
      ],
      "text/plain": [
       "  Molecule ChEMBL ID Standard Type Standard Relation  Standard Value  \\\n",
       "0      CHEMBL4443947          IC50               '='           0.022   \n",
       "1      CHEMBL4556091          IC50               '='           0.026   \n",
       "2      CHEMBL4566431          IC50               '='           0.078   \n",
       "3      CHEMBL4545898          IC50               '='           0.081   \n",
       "4      CHEMBL4448950          IC50               '='           0.099   \n",
       "\n",
       "  Standard Units  pChEMBL Value Assay ChEMBL ID Target ChEMBL ID  \\\n",
       "0             nM          10.66   CHEMBL4361896       CHEMBL3778   \n",
       "1             nM          10.59   CHEMBL4345131       CHEMBL3778   \n",
       "2             nM          10.11   CHEMBL4345131       CHEMBL3778   \n",
       "3             nM          10.09   CHEMBL4345131       CHEMBL3778   \n",
       "4             nM          10.00   CHEMBL4361896       CHEMBL3778   \n",
       "\n",
       "                                  Target Name Target Organism     Target Type  \\\n",
       "0  Interleukin-1 receptor-associated kinase 4    Homo sapiens  SINGLE PROTEIN   \n",
       "1  Interleukin-1 receptor-associated kinase 4    Homo sapiens  SINGLE PROTEIN   \n",
       "2  Interleukin-1 receptor-associated kinase 4    Homo sapiens  SINGLE PROTEIN   \n",
       "3  Interleukin-1 receptor-associated kinase 4    Homo sapiens  SINGLE PROTEIN   \n",
       "4  Interleukin-1 receptor-associated kinase 4    Homo sapiens  SINGLE PROTEIN   \n",
       "\n",
       "  Document ChEMBL ID  IC50_nM  pIC50  \\\n",
       "0      CHEMBL4359855    0.022  10.66   \n",
       "1      CHEMBL4342485    0.026  10.59   \n",
       "2      CHEMBL4342485    0.078  10.11   \n",
       "3      CHEMBL4342485    0.081  10.09   \n",
       "4      CHEMBL4359855    0.099  10.00   \n",
       "\n",
       "                                              Smiles  \n",
       "0  CN[C@@H](C)C(=O)N[C@H](C(=O)N1C[C@@H](NC(=O)CC...  \n",
       "1  CC(C)(O)[C@H](F)CN1Cc2cc(NC(=O)c3cnn4cccnc34)c...  \n",
       "2  CC(C)(O)[C@H](F)CN1Cc2cc(NC(=O)c3cnn4cccnc34)c...  \n",
       "3  CC(C)(O)[C@H](F)CN1Cc2cc(NC(=O)c3cnn4cccnc34)c...  \n",
       "4  COc1cc2c(OC[C@@H]3CCC(=O)N3)ncc(C#CCCCCCCCCCCC...  "
      ]
     },
     "execution_count": 5,
     "metadata": {},
     "output_type": "execute_result"
    }
   ],
   "source": [
    "# 학습 ChEMBL 데이터 로드\n",
    "chembl_data = pd.read_csv('train.csv')  # 예시 파일 이름\n",
    "chembl_data.head()"
   ]
  },
  {
   "cell_type": "markdown",
   "id": "5f9d9861",
   "metadata": {},
   "source": [
    "### Data Pre-processing"
   ]
  },
  {
   "cell_type": "code",
   "execution_count": 90,
   "id": "c5e15f9d-a6e4-46ae-9eb5-0d9b9c74fe5e",
   "metadata": {},
   "outputs": [
    {
     "name": "stderr",
     "output_type": "stream",
     "text": [
      "c:\\Users\\LG\\anaconda3\\envs\\IRAK4IC50\\lib\\site-packages\\ipykernel_launcher.py:2: SettingWithCopyWarning: \n",
      "A value is trying to be set on a copy of a slice from a DataFrame.\n",
      "Try using .loc[row_indexer,col_indexer] = value instead\n",
      "\n",
      "See the caveats in the documentation: https://pandas.pydata.org/pandas-docs/stable/user_guide/indexing.html#returning-a-view-versus-a-copy\n",
      "  \n"
     ]
    }
   ],
   "source": [
    "train = chembl_data[['Smiles', 'pIC50']]\n",
    "train['Fingerprint'] = train['Smiles'].apply(smiles_to_fingerprint)\n",
    "\n",
    "# 훈련데이터 X는 위 함수에서 얻은 분자지문 값, Y는 각각에 상응하는 pIC50 값으로 한다\n",
    "train_x = np.stack(train['Fingerprint'].values)\n",
    "train_y = train['pIC50'].values\n",
    "\n",
    "# 학습 및 검증 데이터 분리\n",
    "train_x, val_x, train_y, val_y = train_test_split(train_x, train_y, test_size=0.2, random_state=42)"
   ]
  },
  {
   "cell_type": "markdown",
   "id": "31d681ee",
   "metadata": {},
   "source": [
    "### Train & Validation"
   ]
  },
  {
   "cell_type": "code",
   "execution_count": 91,
   "id": "83092925",
   "metadata": {},
   "outputs": [
    {
     "data": {
      "text/plain": [
       "LinearRegression()"
      ]
     },
     "execution_count": 91,
     "metadata": {},
     "output_type": "execute_result"
    }
   ],
   "source": [
    "# 선형회귀로 모델 학습\n",
    "model = LinearRegression(fit_intercept=True)\n",
    "model.fit(train_x, train_y)"
   ]
  },
  {
   "cell_type": "code",
   "execution_count": 93,
   "id": "a11d57f6",
   "metadata": {},
   "outputs": [
    {
     "data": {
      "text/plain": [
       "LinearRegression(fit_intercept=False)"
      ]
     },
     "execution_count": 93,
     "metadata": {},
     "output_type": "execute_result"
    }
   ],
   "source": [
    "# 선형회귀로 모델 학습\n",
    "model = LinearRegression(fit_intercept=False)\n",
    "model.fit(train_x, train_y)"
   ]
  },
  {
   "cell_type": "code",
   "execution_count": 94,
   "id": "5bb460fd",
   "metadata": {},
   "outputs": [
    {
     "name": "stdout",
     "output_type": "stream",
     "text": [
      "RMSE: 629.0151349359294\n"
     ]
    }
   ],
   "source": [
    "# train 데이터로부터의 학습 모델 평가\n",
    "\n",
    "# pIC50 값 예측\n",
    "train_y_pred = model.predict(train_x)\n",
    "# 정답 IC50 값과 예측된 IC50 값을 비교하여 평균 제곱 오차값 산출 \n",
    "mse = mean_squared_error(pIC50_to_IC50(train_y), pIC50_to_IC50(train_y_pred))\n",
    "# 평균 제곱 오차값을 평균제곱근 오차값으로 변환\n",
    "rmse = np.sqrt(mse)\n",
    "\n",
    "print(f'RMSE: {rmse}')"
   ]
  },
  {
   "cell_type": "code",
   "execution_count": 95,
   "id": "481192cb",
   "metadata": {},
   "outputs": [
    {
     "name": "stdout",
     "output_type": "stream",
     "text": [
      "4.677351412871981 4.680455127613524\n",
      "645.6542290346549 715.862789173057\n",
      "158.48931924611142 149.1705759342722\n",
      "13.182567385564074 19.15793223778833\n",
      "8317.63771102671 6115.584739617485\n",
      "4897.788193684466 24470.416278862103\n",
      "1202.2644346174131 1204.1718669183322\n",
      "3.3113112148259076 2.815097286774781\n",
      "43.65158322401656 44.61126929155627\n",
      "1.9952623149688828 11.438791051413453\n"
     ]
    }
   ],
   "source": [
    "for i in range(10):\n",
    "    print(pIC50_to_IC50(train_y[i]), pIC50_to_IC50(train_y_pred[i]))"
   ]
  },
  {
   "cell_type": "code",
   "execution_count": 96,
   "id": "9f41f00d",
   "metadata": {},
   "outputs": [
    {
     "data": {
      "text/plain": [
       "0.9886833432429178"
      ]
     },
     "execution_count": 96,
     "metadata": {},
     "output_type": "execute_result"
    }
   ],
   "source": [
    "# # 훈련데이터와 그 예측값(pIC50)과의 상관관계(결정계수) \n",
    "r2_score(train_y, train_y_pred)"
   ]
  },
  {
   "cell_type": "code",
   "execution_count": 97,
   "id": "e86627d0",
   "metadata": {},
   "outputs": [
    {
     "data": {
      "text/plain": [
       "array([ 7.24827576e+00, -8.42743817e+09,  8.45227682e+10,  1.48821059e+10,  5.51169563e+10,\n",
       "        2.56748031e+10, -3.69424273e+10, -1.56638935e+11, -1.68140102e+10,  2.01368275e+10,\n",
       "       -2.58205013e+10,  5.49189595e+10,  8.40505678e+10,  2.66993555e+10,  3.94692412e+10,\n",
       "       -2.48400318e+09, -3.99434708e+10,  1.27214636e+11, -1.67993680e+10,  8.43876598e+10,\n",
       "       -4.38957364e+11, -9.47499212e+07,  8.43838490e+10,  2.25332418e+09, -7.88722773e+10,\n",
       "       -7.26796588e+10, -1.81473340e+11, -3.88901363e+10,  1.56099655e+10,  1.79063535e+10,\n",
       "       -4.48637417e+10,  8.70947266e+00, -2.98863665e+11,  3.83951456e+09, -6.46716913e+10,\n",
       "        8.59851074e+00, -8.59054790e+10,  7.07769120e+10,  4.89372445e+10, -1.82443085e+10,\n",
       "        9.86353444e+10, -2.92887980e+10,  2.86794006e+09, -1.40747669e+10,  5.27272048e+11,\n",
       "        4.14498658e+11, -1.05887696e+11,  1.63545908e+11, -2.19100038e+10,  1.02075733e+11,\n",
       "        2.64167277e+10,  1.60215392e+10,  1.89989015e+11,  1.88224962e+11,  2.69471483e+11,\n",
       "        7.65442833e+10,  1.65513182e+11,  2.32431068e+10,  1.92937723e+11, -8.89366893e+09,\n",
       "        4.53386157e+11,  9.35635361e+09,  4.95232141e+10,  4.44228475e+10,  1.78639778e+10,\n",
       "       -1.88647651e+11,  1.02814032e+11,  3.31562316e+10, -1.11338361e+10, -7.02481564e+10,\n",
       "       -2.69133742e+11, -5.60636942e+09,  5.03619972e+10, -1.13650268e+10, -3.53744073e+10,\n",
       "       -9.39965988e+10,  6.36071396e+00,  2.84260910e+10, -9.46164232e+10,  4.63809133e+10,\n",
       "       -9.35609985e+10,  1.84560378e+11, -9.51482883e+10, -6.45951345e+10, -6.24811738e+10,\n",
       "        2.40786369e+10,  1.90251122e+11, -3.20192981e+10, -3.79371398e+11,  1.88642650e+11,\n",
       "        6.47064899e+09,  4.67422237e+10,  9.75090832e+10, -6.12716512e+10, -7.36600155e+10,\n",
       "        7.93482497e+10,  1.17948564e+11,  6.66174050e+10, -2.13804124e+11,  9.00568133e+10,\n",
       "        4.76238245e+10,  1.57909088e+10, -9.43945372e+10, -6.76414558e+10,  1.10552973e+11,\n",
       "        3.74185554e+11,  2.32044807e+10,  2.28036360e+10,  1.41907087e+11, -1.97738675e+11,\n",
       "        4.04062045e+10,  3.42393411e+09,  6.54696655e+00,  4.15164162e+11, -2.07076584e+10,\n",
       "        1.47162196e+10, -6.40534862e+10,  3.02990749e+10,  8.37561035e+00,  1.43575289e+11,\n",
       "        6.48853564e+10, -1.47166277e+10,  4.86855672e+09,  5.32467651e+00, -7.26900441e+10,\n",
       "        8.34613800e+00, -7.57259122e+10,  3.24188706e+10, -5.51289508e+10, -1.04132728e+11,\n",
       "       -8.85894372e+10,  1.14700571e+11, -6.03037090e+09, -9.28709986e+09,  1.49433935e+11,\n",
       "       -9.53420338e+10, -8.39132063e+10,  5.58416439e+10,  4.88398272e+11, -8.26032851e+10,\n",
       "        5.63625880e+11, -2.26554788e+10, -1.49848840e+11,  1.26536387e+10,  3.34733492e+10,\n",
       "        5.65429199e+10,  8.67602135e+10, -8.31505666e+09, -1.30706953e+10,  3.20764243e+10,\n",
       "       -1.24754856e+10, -5.24223017e+10, -5.04850856e+10,  4.74354687e+10, -1.71193454e+11,\n",
       "        1.98446886e+10,  1.66530780e+10,  3.23632254e+11, -5.41820097e+10,  2.65760266e+11,\n",
       "       -2.56746210e+11, -3.24595622e+10, -4.40043759e+10, -1.66607256e+11, -8.69257625e+09,\n",
       "       -6.77519902e+09, -2.35049511e+10, -4.20104595e+10, -5.47067138e+10, -8.38397794e+09,\n",
       "        9.14449196e+10, -9.66832473e+10,  8.69972229e+00,  7.45772247e+10, -2.17876854e+11,\n",
       "        8.81372920e+10,  1.05496607e+10, -8.45103257e+10,  8.60778809e+00, -3.32965548e+10,\n",
       "       -4.06403370e+10, -2.34093956e+11, -3.69879829e+10,  1.10952343e+11,  1.75038502e+11,\n",
       "       -3.47436341e+10, -1.90518549e+10,  7.05821228e+00,  2.00585030e+11,  1.85655998e+10,\n",
       "        2.48691828e+09, -1.34105032e+09, -2.35058208e+10,  1.47032252e+10,  5.48767349e+10,\n",
       "        1.11990876e+10,  2.66853649e+10,  8.46305606e+10, -8.90974857e+10, -1.14457987e+11,\n",
       "        7.06566780e+10, -4.07430164e+10,  1.10633265e+11,  1.89219434e+11,  2.90509048e+11,\n",
       "       -3.17909046e+10,  1.06698339e+10,  8.82386780e+00,  8.57748413e+00,  1.65300354e+11,\n",
       "        8.57670593e+00,  2.61698773e+11, -1.66872667e+11,  2.18331429e+10,  1.78861570e+10,\n",
       "        1.59554750e+10, -4.25007144e+10,  5.00762839e+10, -7.15794449e+10,  2.36249744e+11,\n",
       "        7.28970786e+10,  2.86610409e+10,  5.85429382e+00, -6.14989511e+10,  8.82748413e+00,\n",
       "        1.41847274e+11,  4.50300039e+10,  2.34812959e+10, -3.94713129e+10,  4.38354508e+10,\n",
       "       -4.98866788e+10, -9.10537994e+10, -1.51042217e+10,  1.18165920e+11,  1.33882106e+11,\n",
       "       -1.10373211e+10, -5.09811305e+10, -1.35589201e+11, -4.19003916e+10,  2.88536989e+10,\n",
       "        2.05935192e+10, -9.59969241e+10,  3.86589951e+10,  4.53997842e+08, -2.14125407e+10,\n",
       "       -3.19794383e+10,  8.70344353e+00, -3.34228865e+10, -1.49899218e+11,  1.84027224e+09,\n",
       "       -2.45131277e+11, -8.50057853e+10, -1.16664914e+11,  8.07786127e+10, -6.40499144e+10,\n",
       "       -9.65534489e+10,  5.85429382e+00, -4.34568575e+09,  8.08208466e+00,  1.32259893e+10,\n",
       "        2.89891272e+10,  7.13924292e+09, -1.09224846e+11,  1.49941219e+11,  6.05059126e+10,\n",
       "       -8.33122373e+10,  5.61191104e+10,  3.08890817e+09, -1.39400953e+11, -9.00970138e+10,\n",
       "       -2.20311079e+10, -1.12226740e+10, -3.08078848e+10, -4.11011166e+09, -4.13939429e+10,\n",
       "       -9.76898819e+10,  2.47353005e+09, -3.11530044e+09,  1.80830154e+11, -1.00763820e+11,\n",
       "        1.42439982e+11,  5.77624318e+10,  2.76823947e+10, -6.50519232e+11,  2.67667495e+10,\n",
       "       -4.27542654e+10,  9.04368937e+10, -4.03852163e+11, -1.98589629e+10,  9.29596342e+10,\n",
       "        1.05008700e+11,  7.65636630e+10,  2.54155630e+10,  8.55526733e+00,  8.55703735e+00,\n",
       "       -1.12939842e+11,  1.44080339e+10,  2.25777494e+10,  3.15999047e+10, -2.30665776e+10,\n",
       "        6.99303179e+10, -3.95981612e+10,  2.42851232e+11, -2.65165338e+09, -1.79314185e+10,\n",
       "        8.90239425e+10, -4.89397648e+10, -5.66076658e+09,  9.26077271e+00,  6.30999361e+09,\n",
       "        2.33790992e+11,  1.29204730e+09,  1.81672702e+11, -5.59931936e+10, -9.67759665e+10,\n",
       "        5.68292999e+00, -6.78657609e+09, -2.78587327e+11,  1.22139621e+11,  3.98069946e+10,\n",
       "        1.41815796e+09, -3.25012702e+10,  5.27131084e+10, -6.05539051e+10,  2.34812959e+10,\n",
       "        1.39042967e+11, -1.13672480e+11, -8.34942851e+10, -4.43248579e+10, -1.88926813e+11,\n",
       "        8.31794739e+00, -7.23954252e+10, -1.11476814e+11, -7.72844169e+10,  2.75623168e+10,\n",
       "       -4.80823194e+10,  5.66859408e+10, -4.07443368e+10,  3.38320307e+10,  1.75601277e+10,\n",
       "       -1.89127921e+09,  8.26492310e+00,  8.27141190e+00,  2.53727402e+09, -1.59140046e+11,\n",
       "       -1.11059658e+11,  3.25272680e+10, -9.03820822e+10,  8.42753983e+00, -4.03980741e+10,\n",
       "        8.60720825e+00,  1.62166471e+10,  4.18341746e+10,  6.66815954e+09,  2.92139921e+11,\n",
       "        9.03094724e+10, -1.05338765e+11, -6.58004229e+09, -6.02811906e+10, -8.65568767e+10,\n",
       "        7.54676819e+00,  5.83505576e+10,  8.40553970e+10, -8.62094193e+09, -3.30277443e+10,\n",
       "        9.76674911e+09,  1.33315519e+11,  8.77870178e+00, -3.13753716e+11, -1.06516049e+11,\n",
       "        7.77145386e+00, -1.62375042e+10,  6.94039535e+10, -1.62008910e+11,  5.99438477e+00,\n",
       "       -3.38505439e+11, -4.33276453e+10, -1.63094022e+10, -3.66428704e+10,  2.25393433e+10,\n",
       "       -1.13135658e+11, -3.86754371e+10,  4.68593615e+09,  1.54966924e+09,  1.21304637e+11,\n",
       "       -3.13001150e+10, -1.62601903e+10, -7.71746889e+10,  6.79598999e+00, -1.18218141e+11,\n",
       "       -2.44684121e+11])"
      ]
     },
     "execution_count": 97,
     "metadata": {},
     "output_type": "execute_result"
    }
   ],
   "source": [
    "val_y_pred = model.predict(val_x)\n",
    "val_y_pred"
   ]
  },
  {
   "cell_type": "code",
   "execution_count": 98,
   "id": "48792a76-ad4a-4ee3-bc28-57b139717411",
   "metadata": {},
   "outputs": [
    {
     "name": "stderr",
     "output_type": "stream",
     "text": [
      "c:\\Users\\LG\\anaconda3\\envs\\IRAK4IC50\\lib\\site-packages\\ipykernel_launcher.py:3: RuntimeWarning: overflow encountered in power\n",
      "  This is separate from the ipykernel package so we can avoid doing imports until\n"
     ]
    },
    {
     "ename": "ValueError",
     "evalue": "Input contains NaN, infinity or a value too large for dtype('float64').",
     "output_type": "error",
     "traceback": [
      "\u001b[1;31m---------------------------------------------------------------------------\u001b[0m",
      "\u001b[1;31mValueError\u001b[0m                                Traceback (most recent call last)",
      "\u001b[1;32m~\\AppData\\Local\\Temp\\ipykernel_7036\\14079149.py\u001b[0m in \u001b[0;36m<module>\u001b[1;34m\u001b[0m\n\u001b[0;32m      4\u001b[0m \u001b[0mval_y_pred\u001b[0m \u001b[1;33m=\u001b[0m \u001b[0mmodel\u001b[0m\u001b[1;33m.\u001b[0m\u001b[0mpredict\u001b[0m\u001b[1;33m(\u001b[0m\u001b[0mval_x\u001b[0m\u001b[1;33m)\u001b[0m\u001b[1;33m\u001b[0m\u001b[1;33m\u001b[0m\u001b[0m\n\u001b[0;32m      5\u001b[0m \u001b[1;31m# 정답 IC50 값과 예측된 IC50 값을 비교하여 평균 제곱 오차값 산출\u001b[0m\u001b[1;33m\u001b[0m\u001b[1;33m\u001b[0m\u001b[1;33m\u001b[0m\u001b[0m\n\u001b[1;32m----> 6\u001b[1;33m \u001b[0mmse\u001b[0m \u001b[1;33m=\u001b[0m \u001b[0mmean_squared_error\u001b[0m\u001b[1;33m(\u001b[0m\u001b[0mpIC50_to_IC50\u001b[0m\u001b[1;33m(\u001b[0m\u001b[0mval_y\u001b[0m\u001b[1;33m)\u001b[0m\u001b[1;33m,\u001b[0m \u001b[0mpIC50_to_IC50\u001b[0m\u001b[1;33m(\u001b[0m\u001b[0mval_y_pred\u001b[0m\u001b[1;33m)\u001b[0m\u001b[1;33m)\u001b[0m\u001b[1;33m\u001b[0m\u001b[1;33m\u001b[0m\u001b[0m\n\u001b[0m\u001b[0;32m      7\u001b[0m \u001b[1;31m# 평균 제곱 오차값을 평균제곱근 오차값으로 변환\u001b[0m\u001b[1;33m\u001b[0m\u001b[1;33m\u001b[0m\u001b[1;33m\u001b[0m\u001b[0m\n\u001b[0;32m      8\u001b[0m \u001b[0mrmse\u001b[0m \u001b[1;33m=\u001b[0m \u001b[0mnp\u001b[0m\u001b[1;33m.\u001b[0m\u001b[0msqrt\u001b[0m\u001b[1;33m(\u001b[0m\u001b[0mmse\u001b[0m\u001b[1;33m)\u001b[0m\u001b[1;33m\u001b[0m\u001b[1;33m\u001b[0m\u001b[0m\n",
      "\u001b[1;32mc:\\Users\\LG\\anaconda3\\envs\\IRAK4IC50\\lib\\site-packages\\sklearn\\metrics\\_regression.py\u001b[0m in \u001b[0;36mmean_squared_error\u001b[1;34m(y_true, y_pred, sample_weight, multioutput, squared)\u001b[0m\n\u001b[0;32m    437\u001b[0m     \"\"\"\n\u001b[0;32m    438\u001b[0m     y_type, y_true, y_pred, multioutput = _check_reg_targets(\n\u001b[1;32m--> 439\u001b[1;33m         \u001b[0my_true\u001b[0m\u001b[1;33m,\u001b[0m \u001b[0my_pred\u001b[0m\u001b[1;33m,\u001b[0m \u001b[0mmultioutput\u001b[0m\u001b[1;33m\u001b[0m\u001b[1;33m\u001b[0m\u001b[0m\n\u001b[0m\u001b[0;32m    440\u001b[0m     )\n\u001b[0;32m    441\u001b[0m     \u001b[0mcheck_consistent_length\u001b[0m\u001b[1;33m(\u001b[0m\u001b[0my_true\u001b[0m\u001b[1;33m,\u001b[0m \u001b[0my_pred\u001b[0m\u001b[1;33m,\u001b[0m \u001b[0msample_weight\u001b[0m\u001b[1;33m)\u001b[0m\u001b[1;33m\u001b[0m\u001b[1;33m\u001b[0m\u001b[0m\n",
      "\u001b[1;32mc:\\Users\\LG\\anaconda3\\envs\\IRAK4IC50\\lib\\site-packages\\sklearn\\metrics\\_regression.py\u001b[0m in \u001b[0;36m_check_reg_targets\u001b[1;34m(y_true, y_pred, multioutput, dtype)\u001b[0m\n\u001b[0;32m     94\u001b[0m     \u001b[0mcheck_consistent_length\u001b[0m\u001b[1;33m(\u001b[0m\u001b[0my_true\u001b[0m\u001b[1;33m,\u001b[0m \u001b[0my_pred\u001b[0m\u001b[1;33m)\u001b[0m\u001b[1;33m\u001b[0m\u001b[1;33m\u001b[0m\u001b[0m\n\u001b[0;32m     95\u001b[0m     \u001b[0my_true\u001b[0m \u001b[1;33m=\u001b[0m \u001b[0mcheck_array\u001b[0m\u001b[1;33m(\u001b[0m\u001b[0my_true\u001b[0m\u001b[1;33m,\u001b[0m \u001b[0mensure_2d\u001b[0m\u001b[1;33m=\u001b[0m\u001b[1;32mFalse\u001b[0m\u001b[1;33m,\u001b[0m \u001b[0mdtype\u001b[0m\u001b[1;33m=\u001b[0m\u001b[0mdtype\u001b[0m\u001b[1;33m)\u001b[0m\u001b[1;33m\u001b[0m\u001b[1;33m\u001b[0m\u001b[0m\n\u001b[1;32m---> 96\u001b[1;33m     \u001b[0my_pred\u001b[0m \u001b[1;33m=\u001b[0m \u001b[0mcheck_array\u001b[0m\u001b[1;33m(\u001b[0m\u001b[0my_pred\u001b[0m\u001b[1;33m,\u001b[0m \u001b[0mensure_2d\u001b[0m\u001b[1;33m=\u001b[0m\u001b[1;32mFalse\u001b[0m\u001b[1;33m,\u001b[0m \u001b[0mdtype\u001b[0m\u001b[1;33m=\u001b[0m\u001b[0mdtype\u001b[0m\u001b[1;33m)\u001b[0m\u001b[1;33m\u001b[0m\u001b[1;33m\u001b[0m\u001b[0m\n\u001b[0m\u001b[0;32m     97\u001b[0m \u001b[1;33m\u001b[0m\u001b[0m\n\u001b[0;32m     98\u001b[0m     \u001b[1;32mif\u001b[0m \u001b[0my_true\u001b[0m\u001b[1;33m.\u001b[0m\u001b[0mndim\u001b[0m \u001b[1;33m==\u001b[0m \u001b[1;36m1\u001b[0m\u001b[1;33m:\u001b[0m\u001b[1;33m\u001b[0m\u001b[1;33m\u001b[0m\u001b[0m\n",
      "\u001b[1;32mc:\\Users\\LG\\anaconda3\\envs\\IRAK4IC50\\lib\\site-packages\\sklearn\\utils\\validation.py\u001b[0m in \u001b[0;36mcheck_array\u001b[1;34m(array, accept_sparse, accept_large_sparse, dtype, order, copy, force_all_finite, ensure_2d, allow_nd, ensure_min_samples, ensure_min_features, estimator)\u001b[0m\n\u001b[0;32m    798\u001b[0m \u001b[1;33m\u001b[0m\u001b[0m\n\u001b[0;32m    799\u001b[0m         \u001b[1;32mif\u001b[0m \u001b[0mforce_all_finite\u001b[0m\u001b[1;33m:\u001b[0m\u001b[1;33m\u001b[0m\u001b[1;33m\u001b[0m\u001b[0m\n\u001b[1;32m--> 800\u001b[1;33m             \u001b[0m_assert_all_finite\u001b[0m\u001b[1;33m(\u001b[0m\u001b[0marray\u001b[0m\u001b[1;33m,\u001b[0m \u001b[0mallow_nan\u001b[0m\u001b[1;33m=\u001b[0m\u001b[0mforce_all_finite\u001b[0m \u001b[1;33m==\u001b[0m \u001b[1;34m\"allow-nan\"\u001b[0m\u001b[1;33m)\u001b[0m\u001b[1;33m\u001b[0m\u001b[1;33m\u001b[0m\u001b[0m\n\u001b[0m\u001b[0;32m    801\u001b[0m \u001b[1;33m\u001b[0m\u001b[0m\n\u001b[0;32m    802\u001b[0m     \u001b[1;32mif\u001b[0m \u001b[0mensure_min_samples\u001b[0m \u001b[1;33m>\u001b[0m \u001b[1;36m0\u001b[0m\u001b[1;33m:\u001b[0m\u001b[1;33m\u001b[0m\u001b[1;33m\u001b[0m\u001b[0m\n",
      "\u001b[1;32mc:\\Users\\LG\\anaconda3\\envs\\IRAK4IC50\\lib\\site-packages\\sklearn\\utils\\validation.py\u001b[0m in \u001b[0;36m_assert_all_finite\u001b[1;34m(X, allow_nan, msg_dtype)\u001b[0m\n\u001b[0;32m    114\u001b[0m             raise ValueError(\n\u001b[0;32m    115\u001b[0m                 msg_err.format(\n\u001b[1;32m--> 116\u001b[1;33m                     \u001b[0mtype_err\u001b[0m\u001b[1;33m,\u001b[0m \u001b[0mmsg_dtype\u001b[0m \u001b[1;32mif\u001b[0m \u001b[0mmsg_dtype\u001b[0m \u001b[1;32mis\u001b[0m \u001b[1;32mnot\u001b[0m \u001b[1;32mNone\u001b[0m \u001b[1;32melse\u001b[0m \u001b[0mX\u001b[0m\u001b[1;33m.\u001b[0m\u001b[0mdtype\u001b[0m\u001b[1;33m\u001b[0m\u001b[1;33m\u001b[0m\u001b[0m\n\u001b[0m\u001b[0;32m    117\u001b[0m                 )\n\u001b[0;32m    118\u001b[0m             )\n",
      "\u001b[1;31mValueError\u001b[0m: Input contains NaN, infinity or a value too large for dtype('float64')."
     ]
    }
   ],
   "source": [
    "# Validation 데이터로부터의 학습 모델 평가\n",
    "\n",
    "# pIC50 값 예측\n",
    "val_y_pred = model.predict(val_x)\n",
    "# 정답 IC50 값과 예측된 IC50 값을 비교하여 평균 제곱 오차값 산출 \n",
    "mse = mean_squared_error(pIC50_to_IC50(val_y), pIC50_to_IC50(val_y_pred))\n",
    "# 평균 제곱 오차값을 평균제곱근 오차값으로 변환\n",
    "rmse = np.sqrt(mse)\n",
    "\n",
    "print(f'RMSE: {rmse}')"
   ]
  },
  {
   "cell_type": "code",
   "execution_count": 99,
   "id": "01ff2b4a",
   "metadata": {},
   "outputs": [
    {
     "name": "stdout",
     "output_type": "stream",
     "text": [
      "537.0317963702532 56.45783799154333\n",
      "151.3561248436207 inf\n",
      "6456.54229034655 0.0\n",
      "446.6835921509635 0.0\n",
      "2.691534803926914 0.0\n",
      "3.6307805477010175 0.0\n",
      "213.79620895022325 inf\n",
      "5.248074602497733 inf\n",
      "22.90867652767775 inf\n",
      "2.691534803926914 0.0\n"
     ]
    },
    {
     "name": "stderr",
     "output_type": "stream",
     "text": [
      "c:\\Users\\LG\\anaconda3\\envs\\IRAK4IC50\\lib\\site-packages\\ipykernel_launcher.py:3: RuntimeWarning: overflow encountered in double_scalars\n",
      "  This is separate from the ipykernel package so we can avoid doing imports until\n"
     ]
    }
   ],
   "source": [
    "for i in range(10):\n",
    "    print(pIC50_to_IC50(val_y[i]), pIC50_to_IC50(val_y_pred[i]))"
   ]
  },
  {
   "cell_type": "code",
   "execution_count": 100,
   "id": "f9a970d1",
   "metadata": {},
   "outputs": [
    {
     "data": {
      "text/plain": [
       "-1.2362479716062833e+22"
      ]
     },
     "execution_count": 100,
     "metadata": {},
     "output_type": "execute_result"
    }
   ],
   "source": [
    "# val 데이터로 결정계수 확인\n",
    "r2_score(val_y, val_y_pred)"
   ]
  },
  {
   "cell_type": "markdown",
   "id": "b8116c25",
   "metadata": {},
   "source": [
    "### Inference"
   ]
  },
  {
   "cell_type": "code",
   "execution_count": 30,
   "id": "97e340fe",
   "metadata": {},
   "outputs": [
    {
     "data": {
      "text/plain": [
       "array([181.96170602,  31.64219967,  10.78052721,  21.3766674 ,  25.31278906,   9.00616709,  26.86828832,  25.04378692,  35.17156285, 180.01139604])"
      ]
     },
     "execution_count": 30,
     "metadata": {},
     "output_type": "execute_result"
    }
   ],
   "source": [
    "# test 데이터로부터의 학습 모델 평가\n",
    "test = pd.read_csv('./test.csv')\n",
    "test['Fingerprint'] = test['Smiles'].apply(smiles_to_fingerprint)\n",
    "\n",
    "test_x = np.stack(test['Fingerprint'].values)\n",
    "\n",
    "# pIC50 값 예측\n",
    "test_y_pred = model.predict(test_x)\n",
    "\n",
    "np.set_printoptions(threshold=np.inf, linewidth=np.inf)\n",
    "pIC50_to_IC50(test_y_pred)[:10]"
   ]
  },
  {
   "cell_type": "markdown",
   "id": "a0c2c6d5",
   "metadata": {},
   "source": [
    "### Submission"
   ]
  },
  {
   "cell_type": "code",
   "execution_count": 31,
   "id": "e698dac0-8a88-4218-a467-4caf0727ccfc",
   "metadata": {},
   "outputs": [
    {
     "data": {
      "text/html": [
       "<div>\n",
       "<style scoped>\n",
       "    .dataframe tbody tr th:only-of-type {\n",
       "        vertical-align: middle;\n",
       "    }\n",
       "\n",
       "    .dataframe tbody tr th {\n",
       "        vertical-align: top;\n",
       "    }\n",
       "\n",
       "    .dataframe thead th {\n",
       "        text-align: right;\n",
       "    }\n",
       "</style>\n",
       "<table border=\"1\" class=\"dataframe\">\n",
       "  <thead>\n",
       "    <tr style=\"text-align: right;\">\n",
       "      <th></th>\n",
       "      <th>ID</th>\n",
       "      <th>IC50_nM</th>\n",
       "    </tr>\n",
       "  </thead>\n",
       "  <tbody>\n",
       "    <tr>\n",
       "      <th>0</th>\n",
       "      <td>TEST_000</td>\n",
       "      <td>181.961706</td>\n",
       "    </tr>\n",
       "    <tr>\n",
       "      <th>1</th>\n",
       "      <td>TEST_001</td>\n",
       "      <td>31.642200</td>\n",
       "    </tr>\n",
       "    <tr>\n",
       "      <th>2</th>\n",
       "      <td>TEST_002</td>\n",
       "      <td>10.780527</td>\n",
       "    </tr>\n",
       "    <tr>\n",
       "      <th>3</th>\n",
       "      <td>TEST_003</td>\n",
       "      <td>21.376667</td>\n",
       "    </tr>\n",
       "    <tr>\n",
       "      <th>4</th>\n",
       "      <td>TEST_004</td>\n",
       "      <td>25.312789</td>\n",
       "    </tr>\n",
       "  </tbody>\n",
       "</table>\n",
       "</div>"
      ],
      "text/plain": [
       "         ID     IC50_nM\n",
       "0  TEST_000  181.961706\n",
       "1  TEST_001   31.642200\n",
       "2  TEST_002   10.780527\n",
       "3  TEST_003   21.376667\n",
       "4  TEST_004   25.312789"
      ]
     },
     "execution_count": 31,
     "metadata": {},
     "output_type": "execute_result"
    }
   ],
   "source": [
    "submit = pd.read_csv('./sample_submission.csv')\n",
    "submit['IC50_nM'] = pIC50_to_IC50(test_y_pred)\n",
    "submit.head()"
   ]
  },
  {
   "cell_type": "code",
   "execution_count": 32,
   "id": "4042b2d0-c42e-4002-9392-14a745b53143",
   "metadata": {},
   "outputs": [],
   "source": [
    "submit.to_csv('./baseline_submit.csv', index=False)"
   ]
  },
  {
   "cell_type": "code",
   "execution_count": null,
   "id": "b7a0c796",
   "metadata": {},
   "outputs": [],
   "source": []
  }
 ],
 "metadata": {
  "kernelspec": {
   "display_name": "Python 3 (ipykernel)",
   "language": "python",
   "name": "python3"
  },
  "language_info": {
   "codemirror_mode": {
    "name": "ipython",
    "version": 3
   },
   "file_extension": ".py",
   "mimetype": "text/x-python",
   "name": "python",
   "nbconvert_exporter": "python",
   "pygments_lexer": "ipython3",
   "version": "3.7.1"
  }
 },
 "nbformat": 4,
 "nbformat_minor": 5
}
