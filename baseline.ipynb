{
 "cells": [
  {
   "cell_type": "markdown",
   "id": "810c62f0",
   "metadata": {},
   "source": [
    "### Import"
   ]
  },
  {
   "cell_type": "code",
   "execution_count": 1,
   "id": "8069fb94-13db-4749-9c92-8f05112ada9b",
   "metadata": {},
   "outputs": [],
   "source": [
    "import pandas as pd\n",
    "import numpy as np\n",
    "import os\n",
    "import random\n",
    "\n",
    "from rdkit import Chem\n",
    "from rdkit.Chem import AllChem\n",
    "from sklearn.model_selection import train_test_split\n",
    "from sklearn.ensemble import RandomForestRegressor\n",
    "from sklearn.metrics import mean_squared_error, r2_score"
   ]
  },
  {
   "cell_type": "code",
   "execution_count": 2,
   "id": "eac68b6e-10d6-494a-b1c3-6bd5769e5630",
   "metadata": {},
   "outputs": [],
   "source": [
    "CFG = {\n",
    "    'NBITS':2048,\n",
    "    'SEED':42,\n",
    "}"
   ]
  },
  {
   "cell_type": "code",
   "execution_count": 3,
   "id": "e19757ae-2968-4fb2-a0ec-32a14c096a59",
   "metadata": {},
   "outputs": [],
   "source": [
    "def seed_everything(seed):\n",
    "    random.seed(seed)\n",
    "    os.environ['PYTHONHASHSEED'] = str(seed)\n",
    "    np.random.seed(seed)\n",
    "seed_everything(CFG['SEED']) # Seed 고정"
   ]
  },
  {
   "cell_type": "markdown",
   "id": "11f7b6ef",
   "metadata": {},
   "source": [
    "### DataLoad"
   ]
  },
  {
   "cell_type": "code",
   "execution_count": 4,
   "id": "005466c2-5255-49f3-94c9-0193203c79e7",
   "metadata": {},
   "outputs": [],
   "source": [
    "# SMILES 데이터를 분자 지문으로 변환\n",
    "def smiles_to_fingerprint(smiles):\n",
    "    # 먼저 SMILES 데이터로 부터 구조식 데이터를 뽑고,\n",
    "    mol = Chem.MolFromSmiles(smiles)\n",
    "    if mol is not None:\n",
    "        # 구조식으로부터 2048개의 0과 1로 이루어진 분자지문 데이터를 객체를 얻는다. \n",
    "        # 이 때, 1은 어떤 분자구조의 존재를 의미하며 0과 1의 개수는 nBits에 따라 달라진다. \n",
    "        # bitInfo 에 dictionary를 할당하면 어느 인덱스에 지문이 찍혔는지 알 수 있으며,\n",
    "        # radius는 단일 맵핑 특성 생성에 사용되는 원자들의 반경,\n",
    "        # nBits는 분자구조 맵핑을 위한 경로들의 고유조합수를 뜻한다.\n",
    "        fp = AllChem.GetMorganFingerprintAsBitVect(mol, radius=2, nBits=CFG['NBITS'])\n",
    "        # 객체를 배열로 변환해서 리턴\n",
    "        return np.array(fp)\n",
    "    else:\n",
    "        # 구조식이 데이터가 없는 경우 2048개의 0을 리턴\n",
    "        return np.zeros((CFG['NBITS'],))"
   ]
  },
  {
   "cell_type": "code",
   "execution_count": 5,
   "id": "f8b5d593-8c7e-490c-9887-e7eb5eb7473c",
   "metadata": {},
   "outputs": [
    {
     "data": {
      "text/html": [
       "<div>\n",
       "<style scoped>\n",
       "    .dataframe tbody tr th:only-of-type {\n",
       "        vertical-align: middle;\n",
       "    }\n",
       "\n",
       "    .dataframe tbody tr th {\n",
       "        vertical-align: top;\n",
       "    }\n",
       "\n",
       "    .dataframe thead th {\n",
       "        text-align: right;\n",
       "    }\n",
       "</style>\n",
       "<table border=\"1\" class=\"dataframe\">\n",
       "  <thead>\n",
       "    <tr style=\"text-align: right;\">\n",
       "      <th></th>\n",
       "      <th>Molecule ChEMBL ID</th>\n",
       "      <th>Standard Type</th>\n",
       "      <th>Standard Relation</th>\n",
       "      <th>Standard Value</th>\n",
       "      <th>Standard Units</th>\n",
       "      <th>pChEMBL Value</th>\n",
       "      <th>Assay ChEMBL ID</th>\n",
       "      <th>Target ChEMBL ID</th>\n",
       "      <th>Target Name</th>\n",
       "      <th>Target Organism</th>\n",
       "      <th>Target Type</th>\n",
       "      <th>Document ChEMBL ID</th>\n",
       "      <th>IC50_nM</th>\n",
       "      <th>pIC50</th>\n",
       "      <th>Smiles</th>\n",
       "    </tr>\n",
       "  </thead>\n",
       "  <tbody>\n",
       "    <tr>\n",
       "      <th>0</th>\n",
       "      <td>CHEMBL4443947</td>\n",
       "      <td>IC50</td>\n",
       "      <td>'='</td>\n",
       "      <td>0.022</td>\n",
       "      <td>nM</td>\n",
       "      <td>10.66</td>\n",
       "      <td>CHEMBL4361896</td>\n",
       "      <td>CHEMBL3778</td>\n",
       "      <td>Interleukin-1 receptor-associated kinase 4</td>\n",
       "      <td>Homo sapiens</td>\n",
       "      <td>SINGLE PROTEIN</td>\n",
       "      <td>CHEMBL4359855</td>\n",
       "      <td>0.022</td>\n",
       "      <td>10.66</td>\n",
       "      <td>CN[C@@H](C)C(=O)N[C@H](C(=O)N1C[C@@H](NC(=O)CC...</td>\n",
       "    </tr>\n",
       "    <tr>\n",
       "      <th>1</th>\n",
       "      <td>CHEMBL4556091</td>\n",
       "      <td>IC50</td>\n",
       "      <td>'='</td>\n",
       "      <td>0.026</td>\n",
       "      <td>nM</td>\n",
       "      <td>10.59</td>\n",
       "      <td>CHEMBL4345131</td>\n",
       "      <td>CHEMBL3778</td>\n",
       "      <td>Interleukin-1 receptor-associated kinase 4</td>\n",
       "      <td>Homo sapiens</td>\n",
       "      <td>SINGLE PROTEIN</td>\n",
       "      <td>CHEMBL4342485</td>\n",
       "      <td>0.026</td>\n",
       "      <td>10.59</td>\n",
       "      <td>CC(C)(O)[C@H](F)CN1Cc2cc(NC(=O)c3cnn4cccnc34)c...</td>\n",
       "    </tr>\n",
       "    <tr>\n",
       "      <th>2</th>\n",
       "      <td>CHEMBL4566431</td>\n",
       "      <td>IC50</td>\n",
       "      <td>'='</td>\n",
       "      <td>0.078</td>\n",
       "      <td>nM</td>\n",
       "      <td>10.11</td>\n",
       "      <td>CHEMBL4345131</td>\n",
       "      <td>CHEMBL3778</td>\n",
       "      <td>Interleukin-1 receptor-associated kinase 4</td>\n",
       "      <td>Homo sapiens</td>\n",
       "      <td>SINGLE PROTEIN</td>\n",
       "      <td>CHEMBL4342485</td>\n",
       "      <td>0.078</td>\n",
       "      <td>10.11</td>\n",
       "      <td>CC(C)(O)[C@H](F)CN1Cc2cc(NC(=O)c3cnn4cccnc34)c...</td>\n",
       "    </tr>\n",
       "    <tr>\n",
       "      <th>3</th>\n",
       "      <td>CHEMBL4545898</td>\n",
       "      <td>IC50</td>\n",
       "      <td>'='</td>\n",
       "      <td>0.081</td>\n",
       "      <td>nM</td>\n",
       "      <td>10.09</td>\n",
       "      <td>CHEMBL4345131</td>\n",
       "      <td>CHEMBL3778</td>\n",
       "      <td>Interleukin-1 receptor-associated kinase 4</td>\n",
       "      <td>Homo sapiens</td>\n",
       "      <td>SINGLE PROTEIN</td>\n",
       "      <td>CHEMBL4342485</td>\n",
       "      <td>0.081</td>\n",
       "      <td>10.09</td>\n",
       "      <td>CC(C)(O)[C@H](F)CN1Cc2cc(NC(=O)c3cnn4cccnc34)c...</td>\n",
       "    </tr>\n",
       "    <tr>\n",
       "      <th>4</th>\n",
       "      <td>CHEMBL4448950</td>\n",
       "      <td>IC50</td>\n",
       "      <td>'='</td>\n",
       "      <td>0.099</td>\n",
       "      <td>nM</td>\n",
       "      <td>10.00</td>\n",
       "      <td>CHEMBL4361896</td>\n",
       "      <td>CHEMBL3778</td>\n",
       "      <td>Interleukin-1 receptor-associated kinase 4</td>\n",
       "      <td>Homo sapiens</td>\n",
       "      <td>SINGLE PROTEIN</td>\n",
       "      <td>CHEMBL4359855</td>\n",
       "      <td>0.099</td>\n",
       "      <td>10.00</td>\n",
       "      <td>COc1cc2c(OC[C@@H]3CCC(=O)N3)ncc(C#CCCCCCCCCCCC...</td>\n",
       "    </tr>\n",
       "  </tbody>\n",
       "</table>\n",
       "</div>"
      ],
      "text/plain": [
       "  Molecule ChEMBL ID Standard Type Standard Relation  Standard Value  \\\n",
       "0      CHEMBL4443947          IC50               '='           0.022   \n",
       "1      CHEMBL4556091          IC50               '='           0.026   \n",
       "2      CHEMBL4566431          IC50               '='           0.078   \n",
       "3      CHEMBL4545898          IC50               '='           0.081   \n",
       "4      CHEMBL4448950          IC50               '='           0.099   \n",
       "\n",
       "  Standard Units  pChEMBL Value Assay ChEMBL ID Target ChEMBL ID  \\\n",
       "0             nM          10.66   CHEMBL4361896       CHEMBL3778   \n",
       "1             nM          10.59   CHEMBL4345131       CHEMBL3778   \n",
       "2             nM          10.11   CHEMBL4345131       CHEMBL3778   \n",
       "3             nM          10.09   CHEMBL4345131       CHEMBL3778   \n",
       "4             nM          10.00   CHEMBL4361896       CHEMBL3778   \n",
       "\n",
       "                                  Target Name Target Organism     Target Type  \\\n",
       "0  Interleukin-1 receptor-associated kinase 4    Homo sapiens  SINGLE PROTEIN   \n",
       "1  Interleukin-1 receptor-associated kinase 4    Homo sapiens  SINGLE PROTEIN   \n",
       "2  Interleukin-1 receptor-associated kinase 4    Homo sapiens  SINGLE PROTEIN   \n",
       "3  Interleukin-1 receptor-associated kinase 4    Homo sapiens  SINGLE PROTEIN   \n",
       "4  Interleukin-1 receptor-associated kinase 4    Homo sapiens  SINGLE PROTEIN   \n",
       "\n",
       "  Document ChEMBL ID  IC50_nM  pIC50  \\\n",
       "0      CHEMBL4359855    0.022  10.66   \n",
       "1      CHEMBL4342485    0.026  10.59   \n",
       "2      CHEMBL4342485    0.078  10.11   \n",
       "3      CHEMBL4342485    0.081  10.09   \n",
       "4      CHEMBL4359855    0.099  10.00   \n",
       "\n",
       "                                              Smiles  \n",
       "0  CN[C@@H](C)C(=O)N[C@H](C(=O)N1C[C@@H](NC(=O)CC...  \n",
       "1  CC(C)(O)[C@H](F)CN1Cc2cc(NC(=O)c3cnn4cccnc34)c...  \n",
       "2  CC(C)(O)[C@H](F)CN1Cc2cc(NC(=O)c3cnn4cccnc34)c...  \n",
       "3  CC(C)(O)[C@H](F)CN1Cc2cc(NC(=O)c3cnn4cccnc34)c...  \n",
       "4  COc1cc2c(OC[C@@H]3CCC(=O)N3)ncc(C#CCCCCCCCCCCC...  "
      ]
     },
     "execution_count": 5,
     "metadata": {},
     "output_type": "execute_result"
    }
   ],
   "source": [
    "# 학습 ChEMBL 데이터 로드\n",
    "chembl_data = pd.read_csv('train.csv')  # 예시 파일 이름\n",
    "chembl_data.head()"
   ]
  },
  {
   "cell_type": "markdown",
   "id": "5f9d9861",
   "metadata": {},
   "source": [
    "### Data Pre-processing"
   ]
  },
  {
   "cell_type": "code",
   "execution_count": 6,
   "id": "c5e15f9d-a6e4-46ae-9eb5-0d9b9c74fe5e",
   "metadata": {},
   "outputs": [
    {
     "name": "stderr",
     "output_type": "stream",
     "text": [
      "/home/yanghojin/anaconda3/envs/IRAK4IC50/lib/python3.7/site-packages/ipykernel_launcher.py:2: SettingWithCopyWarning: \n",
      "A value is trying to be set on a copy of a slice from a DataFrame.\n",
      "Try using .loc[row_indexer,col_indexer] = value instead\n",
      "\n",
      "See the caveats in the documentation: https://pandas.pydata.org/pandas-docs/stable/user_guide/indexing.html#returning-a-view-versus-a-copy\n",
      "  \n"
     ]
    }
   ],
   "source": [
    "train = chembl_data[['Smiles', 'pIC50']]\n",
    "train['Fingerprint'] = train['Smiles'].apply(smiles_to_fingerprint)\n",
    "\n",
    "# 훈련데이터 X는 위 함수에서 얻은 분자지문 값, Y는 각각에 상응하는 pIC50 값으로 한다\n",
    "train_x = np.stack(train['Fingerprint'].values)\n",
    "train_y = train['pIC50'].values\n",
    "\n",
    "# 학습 및 검증 데이터 분리\n",
    "train_x, val_x, train_y, val_y = train_test_split(train_x, train_y, test_size=0.3, random_state=42)"
   ]
  },
  {
   "cell_type": "markdown",
   "id": "31d681ee",
   "metadata": {},
   "source": [
    "### Train & Validation"
   ]
  },
  {
   "cell_type": "code",
   "execution_count": 7,
   "id": "2077ff2a-f2ac-48ee-85e6-d67acfa91be2",
   "metadata": {},
   "outputs": [
    {
     "data": {
      "text/plain": [
       "RandomForestRegressor(random_state=42)"
      ]
     },
     "execution_count": 7,
     "metadata": {},
     "output_type": "execute_result"
    }
   ],
   "source": [
    "# 랜덤 포레스트 모델 학습\n",
    "model = RandomForestRegressor(random_state=CFG['SEED'])\n",
    "model.fit(train_x, train_y)"
   ]
  },
  {
   "cell_type": "code",
   "execution_count": null,
   "id": "bff64f3e",
   "metadata": {},
   "outputs": [],
   "source": [
    "def pIC50_to_IC50(pic50_values):\n",
    "    \"\"\"Convert pIC50 values to IC50 (nM).\"\"\"\n",
    "    return 10 ** (9 - pic50_values)"
   ]
  },
  {
   "cell_type": "code",
   "execution_count": 9,
   "id": "5bb460fd",
   "metadata": {},
   "outputs": [
    {
     "name": "stdout",
     "output_type": "stream",
     "text": [
      "RMSE: 1988.0913536648682\n"
     ]
    }
   ],
   "source": [
    "# train 데이터로부터의 학습 모델 평가\n",
    "\n",
    "# pIC50 값 예측\n",
    "train_y_pred = model.predict(train_x)\n",
    "# 정답 IC50 값과 예측된 IC50 값을 비교하여 평균 제곱 오차값 산출 \n",
    "mse = mean_squared_error(pIC50_to_IC50(train_y), pIC50_to_IC50(train_y_pred))\n",
    "# 평균 제곱 오차값을 평균제곱근 오차값으로 변환\n",
    "rmse = np.sqrt(mse)\n",
    "\n",
    "print(f'RMSE: {rmse}')"
   ]
  },
  {
   "cell_type": "code",
   "execution_count": 23,
   "id": "481192cb",
   "metadata": {},
   "outputs": [
    {
     "name": "stdout",
     "output_type": "stream",
     "text": [
      "10.964781961431852 8.574326166361718\n",
      "25118.864315095823 9120.108393558985\n",
      "16.98243652461746 10.006910141682656\n",
      "776.2471166286912 870.6628217330684\n",
      "549.5408738576248 386.81205463305645\n",
      "8.128305161640995 7.138385536016661\n",
      "138.03842646028838 162.01926835835351\n",
      "1698.243652461746 948.6368698664769\n",
      "4.073802778041122 6.19726403928236\n",
      "72.44359600749905 173.67607671948562\n"
     ]
    }
   ],
   "source": [
    "for i in range(10):\n",
    "    print(pIC50_to_IC50(train_y[i]), pIC50_to_IC50(train_y_pred[i]))"
   ]
  },
  {
   "cell_type": "code",
   "execution_count": 21,
   "id": "9f41f00d",
   "metadata": {},
   "outputs": [
    {
     "data": {
      "text/plain": [
       "0.9512988797129875"
      ]
     },
     "execution_count": 21,
     "metadata": {},
     "output_type": "execute_result"
    }
   ],
   "source": [
    "# # 훈련데이터와 그 예측값(pIC50)과의 상관관계(결정계수) \n",
    "r2_score(train_y, train_y_pred)"
   ]
  },
  {
   "cell_type": "code",
   "execution_count": 22,
   "id": "de0d181c",
   "metadata": {},
   "outputs": [
    {
     "data": {
      "text/plain": [
       "-900742.5423154405"
      ]
     },
     "execution_count": 22,
     "metadata": {},
     "output_type": "execute_result"
    }
   ],
   "source": [
    "# 훈련데이터와 그 예측값을 IC50으로 변환한 값과의 상관관계\n",
    "r2_score(train_y, pIC50_to_IC50(train_y_pred))"
   ]
  },
  {
   "cell_type": "code",
   "execution_count": 8,
   "id": "48792a76-ad4a-4ee3-bc28-57b139717411",
   "metadata": {},
   "outputs": [
    {
     "name": "stdout",
     "output_type": "stream",
     "text": [
      "RMSE: 2169.5781089857264\n"
     ]
    }
   ],
   "source": [
    "# Validation 데이터로부터의 학습 모델 평가\n",
    "\n",
    "# pIC50 값 예측\n",
    "val_y_pred = model.predict(val_x)\n",
    "# 정답 IC50 값과 예측된 IC50 값을 비교하여 평균 제곱 오차값 산출 \n",
    "mse = mean_squared_error(pIC50_to_IC50(val_y), pIC50_to_IC50(val_y_pred))\n",
    "# 평균 제곱 오차값을 평균제곱근 오차값으로 변환\n",
    "rmse = np.sqrt(mse)\n",
    "\n",
    "print(f'RMSE: {rmse}')"
   ]
  },
  {
   "cell_type": "code",
   "execution_count": 14,
   "id": "01ff2b4a",
   "metadata": {},
   "outputs": [
    {
     "name": "stdout",
     "output_type": "stream",
     "text": [
      "537.0317963702532 66.9789497413166\n",
      "151.3561248436207 271.606400480799\n",
      "6456.54229034655 1868.529677255851\n",
      "446.6835921509635 341.66461281382243\n",
      "2.691534803926914 4.434044016334473\n",
      "3.6307805477010175 3.5571321513458205\n",
      "213.79620895022325 97.22993602579264\n",
      "5.248074602497733 3.0563282803658725\n",
      "22.90867652767775 15.319573219471161\n",
      "2.691534803926914 7.38584178120802\n",
      "3.019951720402019 4.058790794129028\n",
      "524.8074602497722 216.88690598094155\n",
      "169.8243652461746 284.11881849832326\n",
      "10.0 21.31571966716918\n",
      "3715.3522909717276 1852.2516912529723\n",
      "112.2018454301963 6.660395212984137\n",
      "1.0 4.322947885417576\n",
      "5.888436553555884 2.114300276881429\n",
      "3.6307805477010175 9.637365572954586\n",
      "1.584893192461111 3.755490490948153\n",
      "1412.5375446227554 505.47537135979894\n",
      "1.2882495516931323 2.6193890037214715\n",
      "19.952623149688787 20.606299132699796\n",
      "7.079457843841373 4.000368510461267\n",
      "15.848931924611142 48.46185122401814\n",
      "19.054607179632484 35.15604405282955\n",
      "2.1877616239495516 2.693394692610774\n",
      "3.019951720402019 7.698391619294387\n",
      "223.87211385683378 30.39484968770076\n",
      "1.0 4.632335436779516\n",
      "2187.761623949552 1686.941413287315\n",
      "10.471285480508985 3.0109254320529883\n",
      "1148.1536214968817 277.74739859878486\n",
      "588.8436553555883 104.93007903979394\n",
      "12.589254117941662 26.18986943510059\n",
      "20.892961308540407 2.349091860180322\n",
      "1.4125375446227555 2.9127284648349696\n",
      "177.82794100389228 178.02459236114393\n",
      "1995.2623149688789 38.511757061038\n",
      "4.897788193684456 4.151451800405754\n",
      "5888.436553555884 2004.4720273651676\n",
      "100.0 74.71365798284319\n",
      "1.0 2.3823194693587233\n",
      "4897.788193684466 334.6570666196767\n",
      "5.248074602497733 4.455536440672982\n",
      "18.620871366628656 4.437108003572347\n",
      "19.952623149688787 12.926074857083647\n",
      "21.87761623949552 53.98834319992134\n",
      "128.82495516931348 250.72924908825198\n",
      "933.2543007969905 36.700050907002606\n",
      "19.952623149688787 23.792313114280063\n",
      "380.1893963205613 321.6621792879064\n",
      "54.954087385762485 57.503154083932635\n",
      "1000.0 326.13694594087355\n",
      "1.9952623149688828 4.124772497846714\n",
      "3.981071705534969 129.3599979452426\n",
      "3.3884415613920207 4.766138590410853\n",
      "5.623413251903491 31.00630394716231\n",
      "4.570881896148752 2.1291193159294814\n",
      "128.82495516931348 493.5145940408797\n",
      "12022.644346174131 4973.933791067698\n",
      "12.02264434617413 4.241830723184239\n",
      "12.02264434617413 19.072165205939186\n",
      "4.677351412871981 4.515439211278208\n",
      "33.11311214825908 46.33046581128682\n",
      "10.964781961431852 4.830588020397798\n",
      "3.019951720402019 4.212112867540696\n",
      "16.98243652461746 8.037111622153997\n",
      "478.630092322638 3.1704433679036845\n",
      "12.88249551693135 3.644013690992421\n",
      "31.622776601683793 8.968090867156159\n",
      "107.1519305237607 1572.8959710650286\n",
      "9.120108393559116 8.857272372577727\n",
      "1.513561248436207 30.715670494258966\n",
      "56.23413251903491 74.73086341912732\n",
      "13.489628825916533 2.2994819241191142\n",
      "1698.243652461746 372.2916822711216\n",
      "10.0 1.977424906606608\n",
      "2.1877616239495516 5.053473585662577\n",
      "741.3102413009177 581.7012539626837\n",
      "138.03842646028838 28.07501519589627\n",
      "257.03957827688646 984.4643639803801\n",
      "6.025595860743569 11.243460539124904\n",
      "56.23413251903491 23.149058547872894\n",
      "12.88249551693135 41.77662322376652\n",
      "575.4399373371566 724.4359600749935\n",
      "3.019951720402019 3.813291452767748\n",
      "4.7863009232263805 1.8173978083953717\n",
      "7.079457843841373 8.245177320439808\n",
      "9.549925860214369 9.246981739382248\n",
      "1096.4781961431852 76.76560317300014\n",
      "141.25375446227554 89.6809086715614\n",
      "16.595869074375596 5.237210139231922\n",
      "12.02264434617413 54.92878591960464\n",
      "1.0 2.0835311605717113\n",
      "16.98243652461746 4.055085354483843\n",
      "100.0 80.07556285067062\n",
      "6025.5958607435805 46.20262670096502\n",
      "204.17379446695276 341.54662641388336\n",
      "0.38018939632056126 27.447323434785602\n"
     ]
    }
   ],
   "source": [
    "for i in range(10):\n",
    "    print(pIC50_to_IC50(val_y[i]), pIC50_to_IC50(val_y_pred[i]))"
   ]
  },
  {
   "cell_type": "code",
   "execution_count": 17,
   "id": "f9a970d1",
   "metadata": {},
   "outputs": [
    {
     "data": {
      "text/plain": [
       "0.7001332789691126"
      ]
     },
     "execution_count": 17,
     "metadata": {},
     "output_type": "execute_result"
    }
   ],
   "source": [
    "# val 데이터로 결정계수 확인\n",
    "r2_score(val_y, val_y_pred)"
   ]
  },
  {
   "cell_type": "markdown",
   "id": "b8116c25",
   "metadata": {},
   "source": [
    "### Inference"
   ]
  },
  {
   "cell_type": "code",
   "execution_count": 30,
   "id": "97e340fe",
   "metadata": {},
   "outputs": [
    {
     "data": {
      "text/plain": [
       "array([181.96170602,  31.64219967,  10.78052721,  21.3766674 ,  25.31278906,   9.00616709,  26.86828832,  25.04378692,  35.17156285, 180.01139604])"
      ]
     },
     "execution_count": 30,
     "metadata": {},
     "output_type": "execute_result"
    }
   ],
   "source": [
    "# test 데이터로부터의 학습 모델 평가\n",
    "test = pd.read_csv('./test.csv')\n",
    "test['Fingerprint'] = test['Smiles'].apply(smiles_to_fingerprint)\n",
    "\n",
    "test_x = np.stack(test['Fingerprint'].values)\n",
    "\n",
    "# pIC50 값 예측\n",
    "test_y_pred = model.predict(test_x)\n",
    "\n",
    "np.set_printoptions(threshold=np.inf, linewidth=np.inf)\n",
    "pIC50_to_IC50(test_y_pred)[:10]"
   ]
  },
  {
   "cell_type": "markdown",
   "id": "a0c2c6d5",
   "metadata": {},
   "source": [
    "### Submission"
   ]
  },
  {
   "cell_type": "code",
   "execution_count": 31,
   "id": "e698dac0-8a88-4218-a467-4caf0727ccfc",
   "metadata": {},
   "outputs": [
    {
     "data": {
      "text/html": [
       "<div>\n",
       "<style scoped>\n",
       "    .dataframe tbody tr th:only-of-type {\n",
       "        vertical-align: middle;\n",
       "    }\n",
       "\n",
       "    .dataframe tbody tr th {\n",
       "        vertical-align: top;\n",
       "    }\n",
       "\n",
       "    .dataframe thead th {\n",
       "        text-align: right;\n",
       "    }\n",
       "</style>\n",
       "<table border=\"1\" class=\"dataframe\">\n",
       "  <thead>\n",
       "    <tr style=\"text-align: right;\">\n",
       "      <th></th>\n",
       "      <th>ID</th>\n",
       "      <th>IC50_nM</th>\n",
       "    </tr>\n",
       "  </thead>\n",
       "  <tbody>\n",
       "    <tr>\n",
       "      <th>0</th>\n",
       "      <td>TEST_000</td>\n",
       "      <td>181.961706</td>\n",
       "    </tr>\n",
       "    <tr>\n",
       "      <th>1</th>\n",
       "      <td>TEST_001</td>\n",
       "      <td>31.642200</td>\n",
       "    </tr>\n",
       "    <tr>\n",
       "      <th>2</th>\n",
       "      <td>TEST_002</td>\n",
       "      <td>10.780527</td>\n",
       "    </tr>\n",
       "    <tr>\n",
       "      <th>3</th>\n",
       "      <td>TEST_003</td>\n",
       "      <td>21.376667</td>\n",
       "    </tr>\n",
       "    <tr>\n",
       "      <th>4</th>\n",
       "      <td>TEST_004</td>\n",
       "      <td>25.312789</td>\n",
       "    </tr>\n",
       "  </tbody>\n",
       "</table>\n",
       "</div>"
      ],
      "text/plain": [
       "         ID     IC50_nM\n",
       "0  TEST_000  181.961706\n",
       "1  TEST_001   31.642200\n",
       "2  TEST_002   10.780527\n",
       "3  TEST_003   21.376667\n",
       "4  TEST_004   25.312789"
      ]
     },
     "execution_count": 31,
     "metadata": {},
     "output_type": "execute_result"
    }
   ],
   "source": [
    "submit = pd.read_csv('./sample_submission.csv')\n",
    "submit['IC50_nM'] = pIC50_to_IC50(test_y_pred)\n",
    "submit.head()"
   ]
  },
  {
   "cell_type": "code",
   "execution_count": 32,
   "id": "4042b2d0-c42e-4002-9392-14a745b53143",
   "metadata": {},
   "outputs": [],
   "source": [
    "submit.to_csv('./baseline_submit.csv', index=False)"
   ]
  },
  {
   "cell_type": "code",
   "execution_count": null,
   "id": "b7a0c796",
   "metadata": {},
   "outputs": [],
   "source": []
  }
 ],
 "metadata": {
  "kernelspec": {
   "display_name": "Python 3 (ipykernel)",
   "language": "python",
   "name": "python3"
  },
  "language_info": {
   "codemirror_mode": {
    "name": "ipython",
    "version": 3
   },
   "file_extension": ".py",
   "mimetype": "text/x-python",
   "name": "python",
   "nbconvert_exporter": "python",
   "pygments_lexer": "ipython3",
   "version": "3.7.1"
  }
 },
 "nbformat": 4,
 "nbformat_minor": 5
}
